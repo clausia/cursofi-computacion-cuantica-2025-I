{
 "cells": [
  {
   "cell_type": "markdown",
   "id": "9684d450-f41f-4083-b2a4-53d7be6da9c1",
   "metadata": {},
   "source": [
    "<table style=\"background-color: transparent;\">\n",
    "    <tr style=\"background-color: transparent; text-align:center;\">\n",
    "        <td width=\"100%\" align=\"center\"><font size=\"7\" color=\"#f25625\">Computación Cuántica</font></td>\n",
    "    </tr>\n",
    "    <tr style=\"background-color: transparent; text-align:center;\">\n",
    "        <td width=\"100%\"><font size=\"4\" color=\"black\">Temas Selectos de Ingeniería en Computación III</font></td>\n",
    "    </tr>\n",
    "    <tr style=\"background-color: transparent; text-align:center;\">\n",
    "        <td width=\"100%\"><font size=\"4\" color=\"black\">2025-1</font></td>\n",
    "    </tr>\n",
    "    <tr style=\"background-color: transparent; text-align:center;\">\n",
    "        <td width=\"100%\"><font size=\"6\" color=\"#f25625\">Laboratorio 5: Algoritmos Cuánticos III</font></td>\n",
    "    </tr>\n",
    "</table>"
   ]
  },
  {
   "cell_type": "markdown",
   "id": "8cb3c64e-563d-4bbc-84d1-2a2e8fe3015b",
   "metadata": {},
   "source": [
    "<p style=\"text-align:right; font-weight:bold;\">Autora: Claudia Zendejas-Morales</p>\n",
    "\n",
    "$ \\newcommand{\\bra}[1]{\\langle #1|} $\n",
    "$ \\newcommand{\\ket}[1]{|#1\\rangle} $\n",
    "$ \\newcommand{\\braket}[2]{\\langle #1|#2\\rangle} $\n",
    "$ \\newcommand{\\mymatrix}[2]{\\left[ \\begin{array}{#1} #2\\end{array} \\right]} $\n",
    "$ \\newcommand{\\myvector}[1]{\\mymatrix{c}{#1}} $"
   ]
  },
  {
   "cell_type": "markdown",
   "id": "acc28997-b39d-4a1b-a12d-4873f392ceda",
   "metadata": {},
   "source": [
    "## Contenido\n",
    "\n",
    "1. [Algoritmo de Bernstein–Vazirani](#1)\n",
    "   1. [El problema](#1.1)\n",
    "   2. [Solución clásica](#1.2)\n",
    "   3. [Solución cuántica](#1.3)\n",
    "2. [Algoritmo de Grover](#2)\n",
    "   1. [Inversión sobre la media](#2.1)\n",
    "   2. [Algoritmo de búsqueda de Grover](#2.2)\n",
    "   4. [Ejemplos de uso](#2.3)\n",
    "3. [Grover en las SpinQ](#3)\n",
    "4. [Práctica 5](#4)"
   ]
  },
  {
   "cell_type": "markdown",
   "id": "69720130-5326-4321-8be6-becca64c59ae",
   "metadata": {},
   "source": [
    "<a id=\"1\"></a>\n",
    "# 1. Algoritmo de Bernstein–Vazirani"
   ]
  },
  {
   "cell_type": "markdown",
   "id": "246a8329-12d1-4adf-b13c-6ce44987b2e3",
   "metadata": {},
   "source": [
    "<a id=\"1.1\"></a>\n",
    "## 1.1. El problema"
   ]
  },
  {
   "cell_type": "markdown",
   "id": "76b844fb-1e64-41b0-b6dc-6fd2e58bfbfb",
   "metadata": {},
   "source": [
    "Dada una función $f:\\{0,1\\}^n \\rightarrow \\{0,1\\}$, que se define como $ f(\\mathbf{x}) = x \\cdot s $, se busca determinar la cadena secreta (secuencia de bits) $s$.\n",
    "\n",
    "Donde $x \\cdot s$ el producto punto de las cadenas de bits módulo 2. Por ejemplo, si $x = 1000$ y $s = 1010$, entonces\n",
    "\n",
    "$$x\\cdot s = 1\\cdot 1 + 0\\cdot 0 + 0\\cdot 1 + 0 \\cdot0 = 1 \\pmod 2 = 1$$\n",
    "\n",
    "Esto podría parecer un problema creado artificialmente, porque lo es. Fue diseñado específicamente para resolverse utilizando una computadora cuántica con el fin de demostrar que puede haber ventajas en el uso de algoritmos cuánticos sobre los algoritmos clásicos."
   ]
  },
  {
   "cell_type": "markdown",
   "id": "1933c257-d715-460a-aa81-d33da2bafbd5",
   "metadata": {},
   "source": [
    "Por ejemplo, si la función $f$ está definida como:\n",
    "\n",
    "\\begin{align*}\n",
    "\tf(00)&=0\\\\\n",
    "\tf(01)&=1\\\\\n",
    "\tf(10)&=0\\\\\n",
    "\tf(11)&=1\\\\\n",
    "\t\\end{align*}\n",
    "\n",
    "En este ejemplo, la cadena secreta está definida como $s=01$, por lo que tenemos: \n",
    "\n",
    "\\begin{align*}\n",
    "f(00)=00\\cdot 01 = 0\\\\\n",
    "f(01)=01\\cdot 01 = 1\\\\\n",
    "f(10)=10\\cdot 01 = 0\\\\\n",
    "f(11)=11\\cdot 01 = 1\n",
    "\\end{align*}"
   ]
  },
  {
   "cell_type": "markdown",
   "id": "8f3be394-2459-4ac2-af97-995fb3443912",
   "metadata": {},
   "source": [
    "Así, el operador unitario $U_f$ toma la forma:\n",
    "\n",
    "$$ U_f: \\ket{x}\\ket{y} \\mapsto \\ket{x}\\ket{y \\oplus ( x \\cdot s)} $$"
   ]
  },
  {
   "cell_type": "markdown",
   "id": "fffdfe16-d1d2-4bbe-84cf-8669358c6539",
   "metadata": {},
   "source": [
    "<a id=\"1.2\"></a>\n",
    "## 1.2. Solución clásica"
   ]
  },
  {
   "cell_type": "markdown",
   "id": "461d2f85-5331-4857-8032-49027f2d62a8",
   "metadata": {},
   "source": [
    "Se necesitan $n$ consultas para determinar la cadena secreta $s$."
   ]
  },
  {
   "cell_type": "markdown",
   "id": "f09ae2f2-7c3c-4d07-8142-cddab4db0d34",
   "metadata": {},
   "source": [
    "<div class=\"alert alert-block alert-info\">\n",
    "<strong>Ejemplo</strong>: \n",
    "\n",
    "Consideremos $n=4$ y las siguientes consultas a $f$:\n",
    "\n",
    "\\begin{align*}\n",
    "f(1000) &= s_1\\cdot 1 + s_2\\cdot 0 + s_3\\cdot 0 + s_4\\cdot 0 = s_1\\\\\n",
    "f(0100) &= s_1\\cdot 0 + s_2\\cdot 1 + s_3\\cdot 0 + s_4\\cdot 0 = s_2\\\\\n",
    "f(0010) &= s_1\\cdot 0 + s_2\\cdot 0 + s_3\\cdot 1 + s_4\\cdot 0 = s_3\\\\\n",
    "f(0001) &= s_1\\cdot 0 + s_2\\cdot 0 + s_3\\cdot 0 + s_4\\cdot 1 = s_4\\\\\n",
    "\\end{align*}\n",
    "\n",
    "Con esos $4$ _queries_ se puede determinar cada bit de la cadena $s=s_1s_2s_3s_4$."
   ]
  },
  {
   "cell_type": "markdown",
   "id": "99d5ee39-b3c6-4263-9e27-58bd65b7b3e9",
   "metadata": {},
   "source": [
    "<a id=\"1.3\"></a>\n",
    "## 1.3. Solución cuántica"
   ]
  },
  {
   "cell_type": "markdown",
   "id": "ab535340-612f-4071-9457-5f7f4276503c",
   "metadata": {},
   "source": [
    "Con la solución cuántica se necesitará **consultar la función $f$ una sola vez**.\n",
    "\n",
    "### Algoritmo\n",
    "\n",
    "El algoritmo es el mismo que en el caso de _Deutsch – Jozsa_, es decir, se realizan los mismos pasos, lo que cambia es la implementación de $U_f$, que nos debe dar la operación $ U_f: \\ket{x}\\ket{y} \\mapsto \\ket{x}\\ket{y \\oplus ( x \\cdot s)} $, es decir, $U_f$ debe contener codificada la cadena de bits secreta $s$.\n",
    "\n",
    "Construimos un circuito con $n+1$ qubits.\n",
    "\n",
    "- Establecer el qubit auxiliar $n+1$ en el estado $\\ket{-}$ aplicando las compuertas $X$ y $H$.\n",
    "- Aplicar $H$ a los primeros $n$ qubits.\n",
    "- Aplicar $U_f$.\n",
    "- Aplicar $H$ a los primeros $n$ qubits.\n",
    "- Medir los primeros $n$ qubits para obtener $s$."
   ]
  },
  {
   "cell_type": "markdown",
   "id": "c5a59e9f-4ea9-47d2-b1ec-9478dd67304b",
   "metadata": {},
   "source": [
    "#### Pasos"
   ]
  },
  {
   "cell_type": "markdown",
   "id": "8e052c1c-667d-4524-9aab-d7d0875b55d9",
   "metadata": {},
   "source": [
    "<div align=\"center\">\n",
    "<img width=\"600px\" style=\"display:block; margin-left: auto; margin-right: auto;\" src=\"data:image/png;base64,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\">"
   ]
  },
  {
   "cell_type": "markdown",
   "id": "02c05881-78a7-4d45-b626-89d6edcb7c2b",
   "metadata": {},
   "source": [
    "**Paso 1**\n",
    "\n",
    "Se preparan dos registros cuánticos. El primero en un registro de $n$ qubits inicializado en $\\ket{0}^{\\otimes n}$, el segundo registro es un qubit inicializado en $\\ket{1}$,\n",
    "\n",
    "$$\\ket{\\psi_1} = \\ket{0}^{\\otimes n} \\, \\ket{1}$$"
   ]
  },
  {
   "cell_type": "markdown",
   "id": "7c5809cc-96ae-4fc1-87b6-453217a48ff1",
   "metadata": {},
   "source": [
    "**Paso 2**\n",
    "\n",
    "Se aplican compuertas Hadamard a cada qubit,\n",
    "\n",
    "$$\\ket{\\psi_2} = \\frac{1}{\\sqrt{2^n}}\\sum_{x=0}^{2^n-1} \\ket{x} \\otimes \\ket{-}$$\n",
    "\n",
    "$$\\ket{\\psi_2}=\\frac{1}{\\sqrt{2^{n+1}}}\\sum_{x=0}^{2^n-1} \\, \\ket{x} \\, \\big(\\ket{0}-\\ket{1}\\big)$$"
   ]
  },
  {
   "cell_type": "markdown",
   "id": "aff2e198-1a72-4008-ab08-50fe49a14bae",
   "metadata": {},
   "source": [
    "**Paso 3**\n",
    "\n",
    "De ahora en adelante podemos ignorar el qubit auxiliar y centrarnos en los qubits de entrada. Después de aplicar $U_f$ obtenemos el estado:\n",
    "\n",
    "$$ \\ket{\\psi_{3,r_1}}= \\frac{1}{\\sqrt{2^n}} \\sum_{x=0}^{2^n-1} (-1)^{f(x)} \\ket{x} $$"
   ]
  },
  {
   "cell_type": "markdown",
   "id": "411d8aa9-50a4-447a-9b54-0efa0900b758",
   "metadata": {},
   "source": [
    "Reemplacemos $f(x) = x \\cdot s$ y reescribamos el estado de la siguiente manera:\n",
    "\n",
    "$$ \\ket{\\psi_{3,r_1}} = \\frac{1}{\\sqrt{2^n}} \\sum_{x=0}^{2^n-1} (-1)^{x \\cdot s} \\ket{x} $$"
   ]
  },
  {
   "cell_type": "markdown",
   "id": "0887627e-9dac-4065-8b55-fdf17c98a4f5",
   "metadata": {},
   "source": [
    "<div class=\"alert alert-block alert-success\">\n",
    "<strong>Recordatorio</strong>: \n",
    "\n",
    "$$ H^{\\otimes n} \\ket{x} = \\frac{1}{\\sqrt{2^n}} \\sum_{x=0}^{2^n-1} (-1)^{x \\cdot z} \\ket{z}$$\n",
    "\n",
    "También sabemos que el operador $H^{\\otimes n}$ es su propio inverso. Por lo tanto, podemos decir que \n",
    "\n",
    "$$H^{\\otimes n}\\ket{a} = \\ket{b} \\Longleftrightarrow H^{\\otimes n}\\ket{b} = \\ket{a}$$"
   ]
  },
  {
   "cell_type": "markdown",
   "id": "3426d5ee-9b32-459d-bad7-429f80ccb7bf",
   "metadata": {},
   "source": [
    "Entonces, de hecho, $\\ket{\\psi_3}$ es el estado obtenido después de aplicar $H^{\\otimes n}$ al estado $\\ket{s}$."
   ]
  },
  {
   "cell_type": "markdown",
   "id": "626d2803-3eed-4863-b5e8-a31b156ffaac",
   "metadata": {},
   "source": [
    "**Paso 4**\n",
    "\n",
    "Por lo tanto, después de aplicar $H^{\\otimes n}$ a los qubits de entrada, obtenemos el estado final como\n",
    "\n",
    "$$\\ket{\\psi_{4,r_1}} = \\ket{s}.$$\n",
    "\n",
    "Medimos los primeros $n$ qubits y observamos la cadena $s$ con probabilidad $1$."
   ]
  },
  {
   "cell_type": "markdown",
   "id": "fd0a4786-cd95-42b3-8393-91bb036317c5",
   "metadata": {},
   "source": [
    "### Implementación en Qiskit\n",
    "\n",
    "La implementación es como la del algoritmo de _Deutsch – Jozsa_, ya que son los mismos pasos, salvo el contenido de $U_f$."
   ]
  },
  {
   "cell_type": "code",
   "execution_count": null,
   "id": "8c17bf29-5946-45d7-bef8-34c818468933",
   "metadata": {},
   "outputs": [],
   "source": [
    "from qiskit import QuantumCircuit"
   ]
  },
  {
   "cell_type": "code",
   "execution_count": null,
   "id": "f9bde6f0-5ae9-4549-bce8-029f0dfe845c",
   "metadata": {},
   "outputs": [],
   "source": [
    "n = 5\n",
    "\n",
    "bv_circuit = QuantumCircuit(n+1, n)          # n+1=6 qubits, n=5 bits clásicos\n",
    "\n",
    "##########\n",
    "# Paso 1 #\n",
    "##########\n",
    "\n",
    "bv_circuit.x(0)                              # colocar el qubit q0 (segundo registro) en el estado |1>\n",
    "bv_circuit.barrier()\n",
    "\n",
    "\n",
    "##########\n",
    "# Paso 2 #\n",
    "##########\n",
    "\n",
    "# Aplicar las compuertas H al primer registro\n",
    "for qubit in range(1, n + 1):\n",
    "    bv_circuit.h(qubit)\n",
    "\n",
    "# Aplicar H al segundo registro, H|1> = |->\n",
    "bv_circuit.h(0)\n",
    "\n",
    "bv_circuit.barrier()\n",
    "\n",
    "\n",
    "##########\n",
    "# Paso 3 #\n",
    "##########\n",
    "\n",
    "# Aplicar U_f\n",
    "\n",
    "bv_circuit.barrier()      # s = 00000, es decir, no se aplican compuertas\n",
    "\n",
    "\n",
    "##########\n",
    "# Paso 4 #\n",
    "##########\n",
    "\n",
    "# Aplicar nuevamente compuertas H al primer registro\n",
    "for qubit in range(1, n + 1):\n",
    "    bv_circuit.h(qubit)\n",
    "\n",
    "bv_circuit.barrier()\n",
    "\n",
    "\n",
    "##########\n",
    "# Medir  #\n",
    "##########\n",
    "\n",
    "# Agregamos mediciones al primer registro\n",
    "for i in range(n):\n",
    "    bv_circuit.measure(i + 1, i)\n",
    "\n",
    "\n",
    "bv_circuit.draw('mpl')"
   ]
  },
  {
   "cell_type": "code",
   "execution_count": null,
   "id": "621fab4b-9cdb-4cab-924f-fbd611026efe",
   "metadata": {},
   "outputs": [],
   "source": [
    "from qiskit.providers.basic_provider import BasicSimulator\n",
    "from qiskit.visualization import plot_histogram\n",
    "\n",
    "sim_basic = BasicSimulator()                       # usamos el simulador básico\n",
    "\n",
    "# ejecutar el circuito, una sola vez es suficiente\n",
    "job_sampler = sim_basic.run(bv_circuit, shots=1)   \n",
    "\n",
    "conteos = job_sampler.result().get_counts()        # obtener los conteos\n",
    "\n",
    "legend = [\"Cadena secreta\"]\n",
    "plot_histogram([conteos], legend=legend)"
   ]
  },
  {
   "cell_type": "markdown",
   "id": "f6937af6-9542-42a0-b3f8-37798725ecf3",
   "metadata": {},
   "source": [
    "<a id=\"2\"></a>\n",
    "# 2. Algoritmo de Grover"
   ]
  },
  {
   "cell_type": "markdown",
   "id": "3651502f-4bba-4139-a3f4-21bf920d1090",
   "metadata": {},
   "source": [
    "<a id=\"2.1\"></a>\n",
    "## 2.1. Inversión sobre la media"
   ]
  },
  {
   "cell_type": "markdown",
   "id": "1c09676c-39fd-4747-a615-f94e7b99b73f",
   "metadata": {},
   "source": [
    "El paso conocido como \"Inversion About the Mean\" (_Inversión sobre la media_) en el contexto del algoritmo de Grover también se denomina \"Amplificación de amplitud\". Este paso es crucial para el funcionamiento del algoritmo porque incrementa sistemáticamente la amplitud (probabilidad) de los estados que son la solución al problema, mientras disminuye las de los otros estados.\n",
    "\n",
    "Veamos un ejemplo sencillo para dar algunas ideas sobre cómo funciona el algoritmo.\n",
    "\n",
    "Tenemos una lista de $N$ elementos.\n",
    "\n",
    "Algunos de ellos están _marcados_.\n",
    "\n",
    "Al principio cada uno tiene un valor de $1$.\n",
    "\n",
    "Cada iteración tiene dos fases:\n",
    "\n",
    "<ol>\n",
    "     <li><b>Consulta</b>: En esta fase asumimos que se detecta cada elemento marcado y luego se invierte su signo.</li>\n",
    "     <li><b>Inversión</b>: En esta fase, el valor de cada elemento se refleja sobre la media de todos los valores.</li>\n",
    "</ol>"
   ]
  },
  {
   "cell_type": "markdown",
   "id": "af83029f-4191-4e35-84a7-9e0c23d4b169",
   "metadata": {},
   "source": [
    "<div class=\"alert alert-block alert-info\">\n",
    "<strong>Ejemplo</strong>:\n",
    "\n",
    "Consideremos $N=8$.\n",
    "\n",
    "Supongamos que solo está marcado el cuarto elemento.\n",
    "\n",
    "Podemos visualizar los valores de los elementos en la lista de la siguiente manera."
   ]
  },
  {
   "cell_type": "code",
   "execution_count": null,
   "id": "e0f06183-a360-4ac0-8586-871f1fb6fed6",
   "metadata": {},
   "outputs": [],
   "source": [
    "from matplotlib.pyplot import bar\n",
    "\n",
    "labels = []\n",
    "elements = []\n",
    "\n",
    "for i in range(8):\n",
    "    labels = labels + [i+1]\n",
    "    elements = elements + [1]\n",
    "\n",
    "# visualizar los valores de los elementos en la lista\n",
    "bar(labels, elements)"
   ]
  },
  {
   "cell_type": "markdown",
   "id": "27e3f9f7-d870-4a22-838b-233dc9bd5469",
   "metadata": {},
   "source": [
    "Iteramos en un paso y visualizamos los valores de los elementos en la lista después de cada fase."
   ]
  },
  {
   "cell_type": "markdown",
   "id": "3ef1d6b0-c4cc-404f-93a3-82aff77145f4",
   "metadata": {},
   "source": [
    "**1er paso - fase de consulta:**"
   ]
  },
  {
   "cell_type": "code",
   "execution_count": null,
   "id": "882c89db-2075-4539-8c9a-a347c17579b2",
   "metadata": {},
   "outputs": [],
   "source": [
    "#\n",
    "# 1er paso - consulta\n",
    "#\n",
    "\n",
    "# cambiar el signo del elemento marcado, es decir, multiplicarlo por -1\n",
    "elements[3] = -1 * elements[3]                                                    # invertir el 4to elemento\n",
    "\n",
    "# visualizar los valores de los elementos en la lista\n",
    "bar(labels, elements)"
   ]
  },
  {
   "cell_type": "markdown",
   "id": "64d64e13-6199-4ee5-8e3e-b927c1c17a04",
   "metadata": {},
   "source": [
    "**1er paso - fase de inversión:**"
   ]
  },
  {
   "cell_type": "code",
   "execution_count": null,
   "id": "904f74c1-8075-4a74-8fc0-178a346bfc9e",
   "metadata": {},
   "outputs": [],
   "source": [
    "#\n",
    "# 1er paso - inversión\n",
    "#\n",
    "\n",
    "# calcular la media de todos los valores\n",
    "\n",
    "# luego refleja cada elemento sobre la media, por ejemplo:\n",
    "# si la media es 0, entonces el reflejo de 3 es -3\n",
    "# si la media es 1, entonces el reflejo de 3 es -1\n",
    "# si la media es -1, entonces el reflejo de 3 es -5\n",
    "\n",
    "# media de todos los valores\n",
    "mean = sum(elements) / len(elements)\n",
    "print(mean)\n",
    "\n",
    "# reflexión sobre la media\n",
    "for i in range(len(elements)):\n",
    "    value = elements[i]\n",
    "    new_value = mean - (value - mean)\n",
    "    elements[i] = new_value\n",
    "\n",
    "# visualizar los valores de los elementos en la lista\n",
    "bar(labels, elements)"
   ]
  },
  {
   "cell_type": "markdown",
   "id": "d216c37f-7b99-4e3f-951b-27e6ec5e59b5",
   "metadata": {},
   "source": [
    "Iteramos un paso más y visualizamos los valores de los elementos en la lista después de cada fase."
   ]
  },
  {
   "cell_type": "markdown",
   "id": "a716a21d-c757-493a-9ccb-77f5c675784b",
   "metadata": {},
   "source": [
    "**2do paso - fase de consulta:**"
   ]
  },
  {
   "cell_type": "code",
   "execution_count": null,
   "id": "36dc7146-63ed-436b-8e26-716718c9f626",
   "metadata": {},
   "outputs": [],
   "source": [
    "#\n",
    "# 2do paso - consulta\n",
    "#\n",
    "\n",
    "# voltear el signo del elemento marcado (de nuevo)\n",
    "elements[3] = -1 * elements[3]\n",
    "\n",
    "# visualizar los valores de los elementos en la lista\n",
    "bar(labels, elements)"
   ]
  },
  {
   "cell_type": "markdown",
   "id": "8f17773c-d5f2-406d-bd29-d0868855e54e",
   "metadata": {},
   "source": [
    "**2do paso - fase de inversión:**"
   ]
  },
  {
   "cell_type": "code",
   "execution_count": null,
   "id": "66d01def-aa42-486f-8bcf-0251497aa809",
   "metadata": {},
   "outputs": [],
   "source": [
    "#\n",
    "# 2do paso - inversión\n",
    "#\n",
    "\n",
    "# media de todos los valores\n",
    "mean = sum(elements) / len(elements)\n",
    "print(mean)\n",
    "\n",
    "# reflexión sobre la media\n",
    "for i in range(len(elements)):\n",
    "    value = elements[i]\n",
    "    new_value = mean - (value-mean)\n",
    "    elements[i] = new_value\n",
    "\n",
    "# visualizar los valores de los elementos en la lista\n",
    "bar(labels, elements)"
   ]
  },
  {
   "cell_type": "markdown",
   "id": "e4fe760b-31d8-4027-a296-5fb0ec4995ec",
   "metadata": {},
   "source": [
    "Repetimos tres pasos más y visualizamos los valores de los elementos en la lista al final."
   ]
  },
  {
   "cell_type": "code",
   "execution_count": null,
   "id": "2f5a7373-ed62-48d8-b241-0f7a47630f12",
   "metadata": {},
   "outputs": [],
   "source": [
    "for i in range(3):\n",
    "    # voltear el signo del elemento marcado\n",
    "    elements[3] = -1 * elements[3]\n",
    "\n",
    "    # media de todos los valores\n",
    "    mean = sum(elements) / len(elements)\n",
    "\n",
    "    # reflexión sobre la media\n",
    "    for i in range(len(elements)):\n",
    "        value = elements[i]\n",
    "        new_value = mean - (value-mean)\n",
    "        elements[i] = new_value\n",
    "\n",
    "# visualizar los valores de los elementos en la lista\n",
    "bar(labels, elements)"
   ]
  },
  {
   "cell_type": "markdown",
   "id": "861fcede-26c3-4fcd-bc7d-bbbb49104eba",
   "metadata": {},
   "source": [
    "Después de $5$ pasos en total, la diferencia entre el elemento marcado con el resto ya no es tan grande, como después del segundo paso ¿qué está pasando?\n",
    "\n",
    "Para eso revisemos el comportamiento del elemento marcado, hagamos un par de funciones que nos ayuden a realizar las fases de cada paso de manera más sencilla y ejecutemos 20 pasos:"
   ]
  },
  {
   "cell_type": "code",
   "execution_count": null,
   "id": "ea52601c-f1d2-4a8d-b5c3-de7e561d4f78",
   "metadata": {},
   "outputs": [],
   "source": [
    "def query(elements=[1], marked_elements=[0]):\n",
    "    for i in marked_elements:\n",
    "        elements[i] = -1 * elements[i]\n",
    "    return elements"
   ]
  },
  {
   "cell_type": "code",
   "execution_count": null,
   "id": "da96116a-cf0c-434c-9699-14252a1b6fa2",
   "metadata": {},
   "outputs": [],
   "source": [
    "def inversion(elements=[1]):\n",
    "    # media de todos los valores\n",
    "    mean = sum(elements) / len(elements)\n",
    "\n",
    "    # reflexión sobre la media\n",
    "    for i in range(len(elements)):\n",
    "        value = elements[i]\n",
    "        new_value = mean - (value - mean)\n",
    "        elements[i] = new_value\n",
    "    return elements"
   ]
  },
  {
   "cell_type": "code",
   "execution_count": null,
   "id": "294c052c-0862-41b6-8531-5f8e537baadb",
   "metadata": {},
   "outputs": [],
   "source": [
    "from matplotlib.pyplot import bar\n",
    "\n",
    "# definir la lista de tamaño 8 en la que cada elemento tiene el valor de 1\n",
    "elements = []\n",
    "for i in range(8):\n",
    "    elements  = elements + [1]\n",
    "\n",
    "# índice del elemento marcado\n",
    "marked_elements = [3]             # el 4to, en este ejemplo\n",
    "\n",
    "# definir la lista de iteraciones\n",
    "iterations = []\n",
    "# lista que almacena los valores del cuarto elemento después de cada paso\n",
    "L = []\n",
    "\n",
    "# los primeros valores\n",
    "iterations.append(0)\n",
    "L.append(elements[marked_elements[0]])\n",
    "\n",
    "for step in range(20):\n",
    "    # almacenar la iteración\n",
    "    iterations.append(step+1)\n",
    "\n",
    "    # realizar un paso (con sus dos fases)\n",
    "    elements = query(elements, marked_elements)\n",
    "    elements = inversion(elements)\n",
    "\n",
    "    # almacenar el nuevo valor del cuarto elemento\n",
    "    L.append(elements[marked_elements[0]])\n",
    "\n",
    "# visualizar los valores del cuarto elemento después de cada iteración\n",
    "bar(iterations, L)\n",
    "print(iterations)\n",
    "print(L)"
   ]
  },
  {
   "cell_type": "markdown",
   "id": "72c9731d-5af1-420e-9b00-d43a8821bd41",
   "metadata": {},
   "source": [
    "### Cuándo deternerse\n",
    "\n",
    "Cuando el número de elementos marcados es menor que el de elementos no marcados, las amplitudes de los elementos marcados comienzan a aumentar.\n",
    "\n",
    "Luego, llegamos al primer pico tal que la probabilidad de observar un elemento marcado toma su valor máximo.\n",
    "\n",
    "Después de pasar este punto, las amplitudes de los elementos marcados comienzan a disminuir.\n",
    "\n",
    "Al iterar el algoritmo de búsqueda de Grover, debemos tener cuidado al detenernos.\n",
    "> Porque, después de alcanzar un valor máximo, estas amplitudes comienzan a disminuir rápidamente, y después de alcanzar un valor mínimo, se amplifican nuevamente, y así sucesivamente.\n",
    "\n",
    "Consideremos el ejemplo anterior: después de alcanza un máximo, luego se comienza a oscilar el valor de la amplitud del elemento marcado."
   ]
  },
  {
   "cell_type": "markdown",
   "id": "c578ce41-a727-4b2f-9f5a-5de6ce6cf162",
   "metadata": {},
   "source": [
    "### Número de iteraciones\n",
    "\n",
    "Si hay un solo elemento marcado en una lista de tamaño $N$, entonces $\\pi \\dfrac{\\sqrt{N}}{4}$ iteraciones pueden dar el elemento marcado con alta probabilidad.\n",
    "\n",
    "Si hay $k$ elementos marcados, entonces es mejor iterar $\\pi \\dfrac{\\sqrt{\\frac{N}{k}}}{4}$ veces.\n",
    "\n",
    "Si se desconoce $k$, entonces podemos ejecutar el algoritmo con diferentes iteraciones. Una forma de hacerlo es iterar el algoritmo\n",
    "\n",
    "$ \\pi \\dfrac{\\sqrt{\\frac{N}{1}}}{4}, \\pi \\dfrac{\\sqrt{\\frac{N}{2}}}{4}, \\pi \\dfrac{ \\sqrt{\\frac{N}{4}}}{4}, \\pi \\dfrac{\\sqrt{\\frac{N}{8}}}{4}, \\ldots $ veces.\n",
    "\n",
    "El número total de iteraciones seguirá siendo proporcional a $ \\pi \\dfrac{\\sqrt{N}}{4} $, es decir, tendremos $ O \\Bigg( \\pi \\dfrac{\\sqrt{N}}{4} \\Bigg) \\sim O \\Big(\\sqrt{N}\\Big)$ ."
   ]
  },
  {
   "cell_type": "markdown",
   "id": "40bca074-9fad-4733-ade7-451f726f0b0c",
   "metadata": {},
   "source": [
    "### Preservación de longitud\n",
    "\n",
    "Notemos que cada fase es un operador (función) que preserva la longitud.\n",
    "\n",
    "¿Crees que los operadores de consulta e inversión son lineales? Más específicamente, ¿podemos representarlos en forma de matriz?\n",
    "\n",
    "La respuesta para el operador de consulta es fácil ya que solo cambia el signo de los elementos marcados, por lo que su forma matricial es muy similar a una matriz de identidad que tiene $-1$ en algunas de las entradas diagonales."
   ]
  },
  {
   "cell_type": "markdown",
   "id": "bf02b055-1d89-4515-882f-6d0daec0b157",
   "metadata": {},
   "source": [
    "Ahora, restringimos la lista para que represente un **estado cuántico**.\n",
    "\n",
    "Por ejemplo si $N=8$, la lista con esa cantidad de elementos, sería $[a,a,a,a,a,a,a,a]$.\n",
    "\n",
    "Si es un estado cuántico, entonces su longitud debe ser $1$, por lo que se debe cumplir que: $ 8a^2 = 1 $ y entonces $a = \\frac{1}{\\sqrt{8}} = \\frac{1}{2\\sqrt{2}}$.\n",
    "\n",
    "En general, cualquier lista con $N$ elementos es $ \\Big[ \\frac{1}{\\sqrt{N}},\\ldots,\\frac{1}{\\sqrt{N}} \\Big] $."
   ]
  },
  {
   "cell_type": "markdown",
   "id": "bd7a8dd6-5686-4aca-bf4b-c63ac4f7ca35",
   "metadata": {},
   "source": [
    "### Fases\n",
    "\n",
    "El operador en cada fase es unitario (lineal).\n",
    "\n",
    "La matriz unitaria en la fase de consulta depende de la entrada, pero el operador unitario en la fase de inversión no depende de la entrada.\n",
    "\n",
    "**En la fase de consulta**, las amplitudes de los elementos marcados cambian de signo.\n",
    "\n",
    "**En la fase de inversión**, para cada amplitud $x$, el nuevo valor se calcula como: $media - (x - media) = 2 \\, media - x $.\n",
    "\n",
    "La media de un vector columna de tamaño $N$ se puede calcular multiplicándola por el siguiente vector renglón por la izquierda:\n",
    "\n",
    "$$\\pmatrix{ \\frac{1}{N} ~~ \\frac{1}{N} ~~ \\cdots ~~ \\frac{1}{N}}$$\n",
    "\n",
    "Al considerar todos los elementos de la lista, nos deja con una matriz. La matriz (*de disufión*) para la segunda fase debe ser entonces:\n",
    "\n",
    "$$D = 2 \\pmatrix{\n",
    "     \\frac{1}{N} & \\cdots & \\frac{1}{N} \\\\\n",
    "     \\vdots & \\ddots & \\vdots \\\\\n",
    "     \\frac{1}{N} & \\cdots & \\frac{1}{N} \\\\\n",
    "     }- I$$"
   ]
  },
  {
   "cell_type": "markdown",
   "id": "16d6cf50-eade-4923-8ac3-2755d05470cb",
   "metadata": {
    "jp-MarkdownHeadingCollapsed": true
   },
   "source": [
    "### Derivación del número de iteraciones (Opcional)"
   ]
  },
  {
   "cell_type": "markdown",
   "id": "f8ab5d46-e686-4498-bb1d-f22e1d9cb64e",
   "metadata": {},
   "source": [
    "El número de iteraciones en el algoritmo de Grover está dado por la fórmula aproximada:\n",
    "\n",
    "$$k \\approx \\frac{\\pi}{4} \\sqrt{N}$$\n",
    "\n",
    "Este número de iteraciones maximiza la probabilidad de encontrar el elemento marcado en una base de datos de tamaño $N$. Veamos paso a paso cómo se llega a esta fórmula.\n",
    "\n",
    "$$ $$\n",
    "\n",
    "1. Consideremos un sistema cuántico con $N$ estados base $|x\\rangle$, donde $x = 0, 1, 2, \\dots, N-1$. El estado inicial es una superposición uniforme de todos los estados es el siguiente:\n",
    "\n",
    "$$|s\\rangle = \\frac{1}{\\sqrt{N}} \\sum_{x=0}^{N-1} |x\\rangle$$\n",
    "\n",
    "Supongamos que hay un solo elemento marcado, denotado como $|m\\rangle$.\n",
    "\n",
    "$$ $$\n",
    "\n",
    "2. El algoritmo de Grover puede visualizarse como una rotación en un espacio de dos dimensiones, generado por los estados:\n",
    "\n",
    " - $|\\alpha\\rangle$: superposición de los estados no marcados\n",
    " - $|\\beta\\rangle = |m\\rangle$: el estado marcado\n",
    "\n",
    "Definimos:\n",
    "\n",
    "$$|\\alpha\\rangle = \\frac{1}{\\sqrt{N-1}} \\sum_{x \\ne m} |x\\rangle$$\n",
    "\n",
    "Entonces, el estado inicial puede reescribirse como:\n",
    "\n",
    "$$|s\\rangle = \\sqrt{\\frac{N-1}{N}} |\\alpha\\rangle + \\frac{1}{\\sqrt{N}} |\\beta\\rangle$$\n",
    "\n",
    "Si el ángulo entre $|s\\rangle$ y $|\\alpha\\rangle$ es $\\theta$, podemos reeescribir el estado como:\n",
    "\n",
    "$$|s\\rangle = \\cos\\theta |\\alpha\\rangle + \\sin\\theta |\\beta\\rangle$$\n",
    "\n",
    "$$ $$\n",
    "\n",
    "3. Ahora, calculamos el ángulo $\\theta$ que determina la amplitud del estado marcado en la superposición inicial:\n",
    "\n",
    "$$\\sin \\theta = \\langle \\beta | s \\rangle = \\frac{1}{\\sqrt{N}}$$\n",
    "\n",
    "Por lo tanto:\n",
    "\n",
    "$$\\theta = \\arcsin\\left( \\frac{1}{\\sqrt{N}} \\right)$$\n",
    "\n",
    "Para $N$ grande, \n",
    "\n",
    "$$\\theta \\approx \\frac{1}{\\sqrt{N}}$$\n",
    "\n",
    "Esto usando la aproximación $\\sin\\theta\\approx \\theta$ cuando $\\theta$ es pequeño.\n",
    "\n",
    "$$ $$\n",
    "\n",
    "4. El operador de Grover, llamémoslo $G$, realiza una rotación en el plano $(|\\alpha\\rangle, |\\beta\\rangle)$ por un ángulo $2\\theta$ en cada iteración:\n",
    "\n",
    "$$G = (2|s\\rangle\\langle s| - I) \\cdot (I - 2|m\\rangle\\langle m|)$$\n",
    "\n",
    "Después de $k$ iteraciones, el estado del sistema es:\n",
    "\n",
    "$$| \\psi_k \\rangle = \\sin\\left( (2k + 1) \\theta \\right) |\\beta\\rangle + \\cos\\left( (2k + 1) \\theta \\right) |\\alpha\\rangle$$\n",
    "\n",
    "$$ $$\n",
    "\n",
    "5. Queremos maximizar la probabilidad de medir el estado marcado $|\\beta\\rangle$, lo que corresponde a maximizar $\\sin^2\\left( (2k + 1) \\theta \\right)$.\n",
    "\n",
    "La máxima probabilidad ocurre cuando:\n",
    "\n",
    "$$(2k + 1) \\theta = \\frac{\\pi}{2}$$\n",
    "\n",
    "Solucionando para $k$:\n",
    "\n",
    "$$k = \\frac{\\pi}{4\\theta} - \\frac{1}{2}$$\n",
    "\n",
    "Para $N$ grande, podemos aproximar $\\theta$ y simplificar:\n",
    "\n",
    "$$k \\approx \\frac{\\pi}{4} \\sqrt{N} - \\frac{1}{2}$$\n",
    "\n",
    "Como el término $-\\frac{1}{2}$ es insignificante para $N$ grande, lo ignoramos:\n",
    "\n",
    "$$k \\approx \\frac{\\pi}{4} \\sqrt{N}$$\n",
    "\n",
    "$$ $$\n",
    "\n",
    "> La fórmula $\\frac{\\pi}{4} \\sqrt{N}$ se obtiene al determinar el número de iteraciones necesarias para rotar el estado inicial hasta que la amplitud del estado marcado sea máxima. Este número de iteraciones proporciona una alta probabilidad de encontrar el elemento marcado al medir el estado final del sistema cuántico."
   ]
  },
  {
   "cell_type": "markdown",
   "id": "8a95df02-120e-4e5f-ba97-3999099eaa31",
   "metadata": {},
   "source": [
    "<a id=\"2.2\"></a>\n",
    "## 2.2. Algoritmo de búsqueda de Grover"
   ]
  },
  {
   "cell_type": "markdown",
   "id": "c022abda-762f-4118-b88b-4d0ddc584950",
   "metadata": {},
   "source": [
    "Supongamos que tenemos una lista de $N=2^n$ elementos, y uno de los elementos está marcado. La tarea es encontrar este elemento marcado.\n",
    "\n",
    "Vamos a utilizar $n$ qubits. Al principio aplicamos Hadamard a cada qubit, por lo que ponemos nuestro estado cuántico en superposición. La amplitud de cada estado base $ \\ket{0 \\cdots 0}, \\ldots, \\ket{1 \\cdots 1} $ se establece en $ \\frac{1}{\\sqrt{N}} $. Después de eso, iteramos el siguiente algoritmo varias veces:\n",
    "\n",
    "- **Consulta**: aplicar un operador de consulta de Oracle a los qubits, lo que invierte el signo de la amplitud del estado que corresponde al elemento marcado.\n",
    "- **Inversión**: aplicar la matriz de difusión, de modo que la amplitud de cada estado se refleja sobre la media de todas las amplitudes.\n",
    "\n",
    "Veamos cómo podemos implementar las operaciones de consulta e inversión."
   ]
  },
  {
   "cell_type": "markdown",
   "id": "76013d42-6dbd-4bf4-8fcf-8d55100d9e8d",
   "metadata": {},
   "source": [
    "### Operación de consulta\n",
    "\n",
    "#### Oráculo\n",
    "\n",
    "Supongamos que existe una función $f:\\{0,1\\}^n \\rightarrow \\{0,1\\}$ con las siguientes propiedades:\n",
    "\n",
    "\\begin{align*}\n",
    "f(x)&=1 &\\mbox{ si $x$ está marcado}\\\\\n",
    "f(x)&=0 &\\mbox{ en caso contrario}\n",
    "\\end{align*}\n",
    "\n",
    "El algoritmo de Grover en realidad no busca una lista de elementos, pero dada la función $f$ con las propiedades anteriores, encuentra el elemento $x$ tal que $f(x)=1$."
   ]
  },
  {
   "cell_type": "markdown",
   "id": "06b6cbea-8b56-46e6-be3f-3da08cd37720",
   "metadata": {},
   "source": [
    "$$ $$\n",
    "Entonces accedemos a la lista consultando $f$, que se llama **oráculo** (oracle), también se le dice *caja negra*.\n",
    "\n",
    "Normalmente, en el peor de los casos, tendríamos que consultar $f$ para todas las entradas posibles para encontrar $x$ que satisfaga $f(x)=1$, lo que implica una complejidad (de consulta) de $O(N)$.\n",
    "\n",
    "El algoritmo de Grover puede realizar la misma tarea solo con $O\\Big(\\sqrt{N}\\Big)$ consultas.\n",
    "\n",
    "**Observación:** El algoritmo funciona si hay varios elementos marcados, pero asumimos que solo 1 elemento está marcado por simplicidad."
   ]
  },
  {
   "cell_type": "markdown",
   "id": "aee126f9-46a0-436f-b7bd-e67234fba003",
   "metadata": {},
   "source": [
    "$$ $$\n",
    "Aunque $f$ puede no ser reversible, se puede implementar de manera reversible utilizando la siguiente idea:"
   ]
  },
  {
   "cell_type": "markdown",
   "id": "2b406041-77a5-4551-afb2-fd4d617888a7",
   "metadata": {},
   "source": [
    "<img width=\"400px\" style=\"display:block; margin-left: auto; margin-right: auto;\" src=\"data:image/png;base64,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\"/>"
   ]
  },
  {
   "cell_type": "markdown",
   "id": "ad0161e8-05cb-4881-bde1-77ac226042f8",
   "metadata": {},
   "source": [
    "Aquí $U_f$, el operador cuántico correspondiente, se define de la siguiente manera, donde $\\oplus$ denota la suma bit a bit módulo 2 ($XOR$).\n",
    "\n",
    "$$U_f: \\ket{y}\\ket{x} \\mapsto \\ket{y \\oplus f(x)}\\ket{x} $$\n",
    "\n",
    "Tengamos en cuenta que este mapeo es reversible. Cuando $\\ket{y}=\\ket{0}$, obtenemos exactamente $f(x)$ en el qubit ancilla."
   ]
  },
  {
   "cell_type": "markdown",
   "id": "bdbb0810-f66c-458b-8adf-b2b82f160a06",
   "metadata": {},
   "source": [
    "#### Invertir el signo\n",
    "\n",
    "En el resto de la discusión, asumiremos que tenemos un circuito cuántico que implementa el operador $U_f$. Se puede construir un operador que invierte el signo de la amplitud del estado correspondiente al elemento marcado $x$ usando **phase-kickback**.\n",
    "\n",
    "Ahora supongamos que $\\ket{y}=\\ket{-} = \\frac{1}{\\sqrt{2}} (\\ket{0} - \\ket{1})$ e investiguemos el efecto del operador $U_f$."
   ]
  },
  {
   "cell_type": "markdown",
   "id": "583b00ca-7112-4eb2-af1e-cd13c2a2d262",
   "metadata": {},
   "source": [
    "\\begin{align*}\n",
    "U_f \\ket{-}\\ket{x} &= U_f \\left( \\frac{\\ket{0}-\\ket{1}}{\\sqrt{2}} \\right) \\ket{x}\\\\\n",
    "&= \\frac{1}{\\sqrt{2}} \\left(U_f\\ket{0}\\ket{x}-U_f\\ket{1}\\ket{x}\\right) \\\\\n",
    "&= \\frac{1}{\\sqrt{2}} \\left(\\ket{f(x)\\oplus 0}\\ket{x} - \\ket{f(x)\\oplus 1}\\ket{x}\\right) \\\\\n",
    "&= \\frac{1}{\\sqrt{2}}\\left( \\ket{f(x)}-\\ket{f(x)\\oplus 1} \\right) \\ket{x} \\\\\n",
    "&= (-1)^{f(x)} \\left( \\frac{\\ket{0}-\\ket{1}}{\\sqrt{2}} \\right) \\ket{x} \\\\\n",
    "&= (-1)^{f(x)} \\ket{-} \\ket{x} \\\\\n",
    "&= \\ket{-} \\;\\;  \\left[(-1)^{f(x)} \\ket{x} \\right] \\\\\n",
    "\\end{align*}"
   ]
  },
  {
   "cell_type": "markdown",
   "id": "e87e08fc-ed86-42e1-9172-923ee4fb0d16",
   "metadata": {},
   "source": [
    "Así, tenemos la siguiente transformación:\n",
    "\n",
    "$$ \\ket{-}\\ket{x} \\xrightarrow{U_f} \\ket{-} \\;\\;  \\left[(-1)^{f(x)} \\ket{x} \\right] $$"
   ]
  },
  {
   "cell_type": "markdown",
   "id": "3d165d69-5f67-4817-b48b-ba705ecad95a",
   "metadata": {},
   "source": [
    "Cuando $ f(x) = 1 $, vemos que una fase igual a $-1$ *se mueve al frente* (phase-kickback) del primer registro. Por lo tanto, al preparar el registro auxiliar en el estado $\\ket{-}$ y aplicar $U_f$, obtenemos el efecto de cambio de signo deseado.\n",
    "\n",
    "Tengamos en cuenta que incluso si no sabemos nada sobre $f$ (por eso se llama caja negra), podemos invertir el signo de la amplitud del elemento marcado haciendo una consulta a $f$ configurando el qubit ancilla (auxiliar) en $\\ket{-}$."
   ]
  },
  {
   "cell_type": "markdown",
   "id": "4e1baa89-56d5-4564-a14b-bdec5bcd205a",
   "metadata": {},
   "source": [
    "<div class=\"alert alert-block alert-info\">\n",
    "<strong>Ejemplo</strong>: \n",
    "    \n",
    "Sea $N=4$. Implementar la fase de consulta y verificar la matriz unitaria del operador de consulta. Tener en cuenta que estamos interesados en la parte superior izquierda $4 \\times 4$ de la matriz, ya que las partes restantes se deben al qubit ancilla.\n",
    "\n",
    "¿Puedes adivinar el elemento marcado mirando la matriz unitaria?"
   ]
  },
  {
   "cell_type": "markdown",
   "id": "0611fd0e-be22-4822-9006-074c6317b1bd",
   "metadata": {},
   "source": [
    "Ahora usemos el retroceso de fase para invertir el signo del elemento marcado:\n",
    "\n",
    "- [*preparación*] Establecer el qubit auxiliar en $\\ket{-}$ aplicando $X$ y $H$.\n",
    "- Aplicar el operador $U_f$\n",
    "- [*finalización*] Regresar el qubit auxiliar."
   ]
  },
  {
   "cell_type": "code",
   "execution_count": null,
   "id": "24371daa-baba-41a0-8b06-781fce7f2a75",
   "metadata": {},
   "outputs": [],
   "source": [
    "def Uf(circuit, qreg):\n",
    "\tcircuit.ccx(qreg[0], qreg[1], qreg[2])"
   ]
  },
  {
   "cell_type": "code",
   "execution_count": null,
   "id": "0ab52d5a-5490-4d78-8126-19e1c4a9a891",
   "metadata": {},
   "outputs": [],
   "source": [
    "from qiskit import QuantumRegister, QuantumCircuit\n",
    "from qiskit.quantum_info import Statevector, Operator, partial_trace\n",
    "from qiskit.visualization import array_to_latex\n",
    "\n",
    "qreg = QuantumRegister(3)\n",
    "# No es necesario definir un registro clásico ya que no estamos midiendo\n",
    "\n",
    "mycircuit = QuantumCircuit(qreg)\n",
    "\n",
    "# registro ancilla\n",
    "mycircuit.x(qreg[2])\n",
    "mycircuit.h(qreg[2])\n",
    "\n",
    "# aplicar oráculo\n",
    "Uf(mycircuit, qreg)\n",
    "\n",
    "# regresar el registro ancilla\n",
    "mycircuit.h(qreg[2])\n",
    "mycircuit.x(qreg[2])\n",
    "\n",
    "op = Operator(mycircuit)\n",
    "display(array_to_latex(op))\n",
    "\n",
    "mycircuit.draw(output='mpl')"
   ]
  },
  {
   "cell_type": "markdown",
   "id": "972f9310-311c-4917-922e-2019cad82332",
   "metadata": {},
   "source": [
    "En el ejemplo anterior, observamos que el operador de consulta parece un operador identidad con una de las entradas igual a $-1$, que es responsable del cambio de signo.\n",
    "\n",
    "$$\\pmatrix{1 & 0 & 0 & 0 \\\\ 0 & 1 & 0 & 0 \\\\ 0 & 0 & 1 & 0 \\\\ 0 & 0 & 0 & -1}$$\n",
    "\n",
    "Al observar la matriz, podemos notar que el elemento marcado es $\\ket{11}$. Tengamos en cuenta que, en general, no se puede echar un vistazo a la matriz correspondiente al operador de consulta y, por lo tanto, no es posible encontrar el elemento marcado después de una sola consulta."
   ]
  },
  {
   "cell_type": "markdown",
   "id": "8c13bb6d-b1ad-4811-8617-69fa78a68edb",
   "metadata": {},
   "source": [
    "### Operador de inversión\n",
    "\n",
    "Para implementar la operación de inversión (difusión), necesitaremos un qubit adicional (ancilla). Así es como implementamos el operador de inversión:\n",
    "\n",
    "- [*preparación*] Establecer el qubit ancilla en $\\ket{-}$ aplicando $X$ y $H$.\n",
    "- Aplicar $H$ a todos los qubits distintos del ancilla.\n",
    "- Aplicar $X$ a todos los qubits distintos del ancilla.\n",
    "- Aplicar operador $NOT$ controlado múltiple, donde el qubit ancilla es el objetivo y todos los demás qubits se utilizan para controlar.\n",
    "- Aplicar $X$ al qubit ancilla.\n",
    "- Aplicar $X$ a todos los qubits distintos del ancilla.\n",
    "- Aplicar $H$ a todos los qubits distintos del ancilla.\n",
    "- [*finalización*] Regresar el qubit ancilla aplicando $X$ y $H$."
   ]
  },
  {
   "cell_type": "markdown",
   "id": "ee05dcbb-705e-4270-9ff9-81473f837832",
   "metadata": {},
   "source": [
    "#### ¿Por qué se eligen estas compuertas?"
   ]
  },
  {
   "cell_type": "markdown",
   "id": "c142ab51-b2e3-4019-8d93-74bd787c0dd4",
   "metadata": {},
   "source": [
    "Ahora intentemos entender por qué se eligen estas compuertas. Recordemos el operador de inversión:\n",
    "\n",
    "$$D = 2 \\pmatrix{\n",
    "     \\frac{1}{N} & \\cdots & \\frac{1}{N} \\\\\n",
    "     \\vdots & \\ddots & \\vdots \\\\\n",
    "     \\frac{1}{N} & \\cdots & \\frac{1}{N} \\\\\n",
    "     } - I$$\n",
    "\n",
    "Este operador también se denomina **operador de difusión**.\n",
    "\n",
    "Recordemos que el operador de difusión se puede expresar como $D=2\\ket{u}\\bra{u}-I$, donde $\\ket{u}=H^{\\otimes n}\\ket{0^n}$ es el vector de igual superposición. Simplemente denotaremos $\\ket{0^n}$ con el ket $\\ket{\\mathbf{0}}$."
   ]
  },
  {
   "cell_type": "markdown",
   "id": "5c75491a-bbc2-4483-aa69-101604f1d6d9",
   "metadata": {},
   "source": [
    "- Para empezar, expresemos $D$ de la siguiente manera:\n",
    "\n",
    "\\begin{align*}\n",
    "D&=2\\ket{u}\\bra{u}-I \\\\\n",
    "&=2H^{\\otimes n}\\ket{\\mathbf{0}}\\bra{\\mathbf{0}}H^{\\otimes n}- I \\\\\n",
    "&=2H^{\\otimes n}\\ket{\\mathbf{0}}\\bra{\\mathbf{0}}H^{\\otimes n}-H^{\\otimes n}H^{\\otimes n}\\\\\n",
    "&=H^{\\otimes n} (2\\ket{\\mathbf{0}}\\bra{\\mathbf{0}}H^{\\otimes n}-H^{\\otimes n}) \\\\\n",
    "&=H^{\\otimes n} (2\\ket{\\mathbf{0}}\\bra{\\mathbf{0}}-I)H^{\\otimes n}\n",
    "\\end{align*}\n",
    "\n",
    "*Al observar esta expresión, queda claro por qué tenemos compuertas $H$ al principio y al final*"
   ]
  },
  {
   "cell_type": "markdown",
   "id": "e75328d3-55a4-41a6-93a7-a0554398cb9f",
   "metadata": {},
   "source": [
    "- Ahora veamos el efecto de aplicar $2\\ket{\\mathbf{0}}\\bra{\\mathbf{0}}-I$ a cualquier estado arbitrario.\n",
    "\n",
    "$$(2\\ket{\\mathbf{0}}\\bra{\\mathbf{0}}-I) \\ket{x} = 2\\ket{\\mathbf{0}}\\braket{\\mathbf{0}}{ x}-\\ket{x}$$\n",
    "\n",
    "Si $\\ket{x}=\\ket{\\mathbf{0}}$, ya que $\\braket{\\mathbf{0}}{\\mathbf{0}}=1$, entonces $2\\ket{\\mathbf{0}}\\braket{\\mathbf{0}}{\\mathbf{0}}-\\ket{\\mathbf{0}} = 2\\ket{\\mathbf{0}}-\\ket{\\mathbf{0}} = \\ket{\\mathbf{0}}$.\n",
    "\n",
    "Si $\\ket{x}\\neq \\ket{\\mathbf{0}}$, ya que $\\braket{\\mathbf{0}}{x}=0$, entonces $2\\ket{\\mathbf{0}}\\braket{\\mathbf{0}}{x}-\\ket{x}= 2\\ket{\\mathbf{0}}\\cdot 0 -\\ket{x} = -\\ket{x}$.\n",
    "\n",
    "Por lo tanto, el efecto de $2\\ket{\\mathbf{0}}\\bra{\\mathbf{0}}-I$ es invertir la amplitud de cualquier estado excepto de $\\ket{\\mathbf{0}}$."
   ]
  },
  {
   "cell_type": "markdown",
   "id": "54b18499-d1eb-4fcb-bea9-aabbbcce2046",
   "metadata": {},
   "source": [
    "- Ahora revisemos cómo podemos implementar este operador. Definamos la función $g$ de la siguiente manera y dejemos que $U_g$ sea el operador correspondiente.\n",
    "\n",
    "\\begin{align*}\n",
    "g(x)&=0 &\\mbox{ si $x$ es $\\ket{\\mathbf{0}}$ }\\\\\n",
    "g(x)&=1 &\\mbox{ de lo contrario}\n",
    "\\end{align*}\n",
    "\n",
    "Configuremos el qubit ancilla para que sea $\\ket{-}$ y apliquemos el operador $U_g$\n",
    "\n",
    "\\begin{align*}\n",
    "U_g \\ket{-} \\ket{x} &= (-1)^{g(x)} \\ket{-} \\ket{x}\n",
    "\\end{align*}\n",
    "\n",
    "Tengamos en cuenta que $U_g$ invierte las amplitudes de los estados distintos de $\\ket{\\mathbf{0}}$ e implementa exactamente $2\\ket{\\mathbf{0}}\\bra{\\mathbf{0}}-I$."
   ]
  },
  {
   "cell_type": "markdown",
   "id": "f7c6c9cf-3968-4774-b9da-ee5a64db5ee6",
   "metadata": {},
   "source": [
    "- ¿Cómo implementar $U_g$?\n",
    "\n",
    "Consideremos $g'$ que es exactamente lo opuesto a $g$.\n",
    "\n",
    "\\begin{align*}\n",
    "g'(x)&=1 &\\mbox{ si $x$ es $\\ket{\\mathbf{0}}$ }\\\\\n",
    "g'(x)&=0 &\\mbox{ en caso contrario},\n",
    "\\end{align*}\n",
    "\n",
    "Para implementar $U_{g'}$, debemos regresar $1$ cuando $x$ es $\\ket{\\bf 0}$, es decir, debemos aplicar la compuerta $X$ al qubit ancilla cuando todos los qubits de entrada están en el estado $0$.\n",
    "\n",
    "*Es por eso que primero aplicamos la compuerta $X$ a los qubits de control y luego aplicamos múltiples compuertas $NOT$ controladas donde el objetivo es el qubit ancilla. Luego, volvemos a configurar los qubits de control.*"
   ]
  },
  {
   "cell_type": "markdown",
   "id": "75ed4229-ca2e-4275-9685-dc51e6dc6f92",
   "metadata": {},
   "source": [
    "Acabamos de obtener el efecto opuesto de $g$: el qubit ancilla se establece en $1$ si todos los qubits de entrada están en estado $0$.\n",
    "\n",
    "*Por lo tanto, aplicamos la compuerta $X$ al qubit ancilla para que la salida sea $1$ cuando $x$ no es $\\ket{\\bf{0}}$ y la salida es $0$ en caso contrario.*"
   ]
  },
  {
   "cell_type": "markdown",
   "id": "81fb3af3-6948-473f-861a-f274a36c6e16",
   "metadata": {},
   "source": [
    "### Probar la búsqueda de Grover\n",
    "\n",
    "Ahora estamos listos para probar las operaciones y ejecutar la búsqueda de Grover. Supongamos que hay $4$ elementos en la lista e intentemos encontrar el elemento marcado.\n",
    "\n",
    "El operador $U_f$ marcará un elemento\n",
    "    \n",
    "¿Qué estado observas con más frecuencia?"
   ]
  },
  {
   "cell_type": "code",
   "execution_count": null,
   "id": "4654745f-c1d2-447f-ac87-a9eff420d4de",
   "metadata": {},
   "outputs": [],
   "source": [
    "def Uf_11(circuit, qreg, ancilla):\n",
    "\tcircuit.ccx(qreg[0], qreg[1], ancilla)"
   ]
  },
  {
   "cell_type": "code",
   "execution_count": null,
   "id": "855be1d4-c00a-4815-b724-eef74b4b6f04",
   "metadata": {},
   "outputs": [],
   "source": [
    "def inversion(circuit, quantum_reg, ancilla):\n",
    "\n",
    "    # paso 1\n",
    "    circuit.h(quantum_reg)\n",
    "\n",
    "    # paso 2\n",
    "    circuit.x(quantum_reg)\n",
    "\n",
    "    # paso 3\n",
    "    circuit.mcx(quantum_reg, ancilla)        # multi-cX gate -> params: control_qubits, target_qubit\n",
    "\n",
    "    # paso 4\n",
    "    circuit.x(quantum_reg)\n",
    "\n",
    "    # paso 5\n",
    "    circuit.x(ancilla)\n",
    "\n",
    "    # paso 6\n",
    "    circuit.h(quantum_reg)"
   ]
  },
  {
   "cell_type": "code",
   "execution_count": null,
   "id": "9379d703-2406-4608-9bb3-922aad61599e",
   "metadata": {},
   "outputs": [],
   "source": [
    "from qiskit import QuantumRegister, ClassicalRegister, QuantumCircuit\n",
    "from qiskit.primitives import StatevectorSampler\n",
    "from qiskit.visualization import plot_histogram\n",
    "\n",
    "def grover(U_f, n=2, iterations=1):\n",
    "\n",
    "    qreg = QuantumRegister(n, 'q')\n",
    "    ancilla = QuantumRegister(1, 'ancilla')\n",
    "    creg = ClassicalRegister(n, 'medición')\n",
    "    \n",
    "    grover_circuit = QuantumCircuit(qreg, ancilla, creg)\n",
    "    \n",
    "    # paso inicial - igual superposición\n",
    "    grover_circuit.h(qreg)\n",
    "    \n",
    "    # iniciar ancilla\n",
    "    grover_circuit.x(ancilla)\n",
    "    grover_circuit.h(ancilla)\n",
    "    grover_circuit.barrier()\n",
    "    \n",
    "    # Iteraciones de Grover\n",
    "    for i in range(iterations):\n",
    "        \n",
    "        # consulta (query)\n",
    "        U_f(grover_circuit, qreg, ancilla)\n",
    "        grover_circuit.barrier()\n",
    "        \n",
    "        # inversión\n",
    "        inversion(grover_circuit, qreg, ancilla)\n",
    "        grover_circuit.barrier()\n",
    "    \n",
    "    \n",
    "    # regresar el ancilla\n",
    "    grover_circuit.h(ancilla)\n",
    "    grover_circuit.x(ancilla)\n",
    "    grover_circuit.barrier()\n",
    "    \n",
    "    grover_circuit.measure(qreg, creg)\n",
    "    \n",
    "    shots = 2500\n",
    "    \n",
    "    sampler = StatevectorSampler()                                  # crear objeto de tipo StatevectorSampler\n",
    "\n",
    "    job_sampler = sampler.run([grover_circuit], shots=shots)\n",
    "    conteos = job_sampler.result()[0].data.medición.get_counts()    # obtener los conteos, \"medición\" es el nombre del registro clásico\n",
    "    \n",
    "    # imprimir el resultado\n",
    "    for outcome in conteos:\n",
    "        print(\"El elemento\", outcome, \"es observado con probabilidad\", conteos[outcome]/shots)\n",
    "    \n",
    "    display(grover_circuit.draw(output='mpl'))"
   ]
  },
  {
   "cell_type": "code",
   "execution_count": null,
   "id": "f6aaa5f1-e748-476a-ad47-b6d591de3626",
   "metadata": {},
   "outputs": [],
   "source": [
    "grover(Uf_11)"
   ]
  },
  {
   "cell_type": "markdown",
   "id": "81b92a3c-b314-406a-a7dc-e0c888085ff7",
   "metadata": {},
   "source": [
    "#### Otros oráculos"
   ]
  },
  {
   "cell_type": "code",
   "execution_count": null,
   "id": "c3f6004a-c997-4783-9c8e-1d77cb12999b",
   "metadata": {},
   "outputs": [],
   "source": [
    "def Uf_10(circuit, qreg, ancilla):\n",
    "    circuit.x(qreg[0])\n",
    "    circuit.ccx(qreg[0], qreg[1], ancilla)\n",
    "    circuit.x(qreg[0])"
   ]
  },
  {
   "cell_type": "code",
   "execution_count": null,
   "id": "9fb5fba8-0d62-4d9a-a5b4-43c52a66c933",
   "metadata": {},
   "outputs": [],
   "source": [
    "grover(Uf_10)"
   ]
  },
  {
   "cell_type": "code",
   "execution_count": null,
   "id": "aaddf415-e4be-4f72-ba82-8a5f558a4ea8",
   "metadata": {},
   "outputs": [],
   "source": [
    "def Uf_01(circuit, qreg, ancilla):\n",
    "    circuit.x(qreg[1])\n",
    "    circuit.ccx(qreg[0], qreg[1], ancilla)\n",
    "    circuit.x(qreg[1])"
   ]
  },
  {
   "cell_type": "code",
   "execution_count": null,
   "id": "6597d594-d523-4970-b331-a4c1e25f86c8",
   "metadata": {},
   "outputs": [],
   "source": [
    "grover(Uf_01)"
   ]
  },
  {
   "cell_type": "code",
   "execution_count": null,
   "id": "4f46cb63-4c7b-4a82-8a95-8e4fb3a04ae0",
   "metadata": {},
   "outputs": [],
   "source": [
    "def Uf_00(circuit, qreg, ancilla):\n",
    "    circuit.x(qreg[0])\n",
    "    circuit.x(qreg[1])\n",
    "    circuit.ccx(qreg[0], qreg[1], ancilla)\n",
    "    circuit.x(qreg[0])\n",
    "    circuit.x(qreg[1])"
   ]
  },
  {
   "cell_type": "code",
   "execution_count": null,
   "id": "1fb47f5e-7ef9-4cfa-927c-95e2dba527b0",
   "metadata": {},
   "outputs": [],
   "source": [
    "grover(Uf_00)"
   ]
  },
  {
   "cell_type": "code",
   "execution_count": null,
   "id": "80a688dc-a7b8-4e86-80e2-a15665c9376b",
   "metadata": {},
   "outputs": [],
   "source": [
    "def Uf_001_010(circuit, qreg, ancilla):\n",
    "    \n",
    "    # 001\n",
    "    circuit.x(qreg[1])\n",
    "    circuit.x(qreg[2])\n",
    "    circuit.mcx(qreg, ancilla)      # debido al uso de la compuerta MCX, es que se simula con 'StatevectorSampler' y no con 'BasicSimulator'\n",
    "    circuit.x(qreg[1])\n",
    "    circuit.x(qreg[2])\n",
    "\n",
    "    # 010\n",
    "    circuit.x(qreg[0])\n",
    "    circuit.x(qreg[2])\n",
    "    circuit.mcx(qreg, ancilla)\n",
    "    circuit.x(qreg[0])\n",
    "    circuit.x(qreg[2])"
   ]
  },
  {
   "cell_type": "code",
   "execution_count": null,
   "id": "1a2b8a95-e5b0-47e0-964e-72c474a5a30b",
   "metadata": {},
   "outputs": [],
   "source": [
    "grover(Uf_001_010, n=3, iterations=1)"
   ]
  },
  {
   "cell_type": "markdown",
   "id": "69de6eb4-8057-434c-8ab8-474aa9920eec",
   "metadata": {},
   "source": [
    "<a id=\"2.3\"></a>\n",
    "## 2.3. Ejemplos de uso"
   ]
  },
  {
   "cell_type": "markdown",
   "id": "58f8ff6e-7124-40bb-a2b2-f246545aa977",
   "metadata": {},
   "source": [
    "### Problema del vendedor viajero (TSP)\n",
    "\n",
    "El algoritmo de Grover no se limita a una lista. Puede ser aplicado a cualquier espacio de búsqueda siempre que se pueda construir dicha función $f$. \n",
    "\n",
    "Consideremos la imagen a continuación. $A$, $B$, $C$ y $D$ son ciudades y los números representan la distancia entre ellas."
   ]
  },
  {
   "cell_type": "markdown",
   "id": "f0bceb00-d918-4dd6-854b-6741bb9a9369",
   "metadata": {},
   "source": [
    "<img width=\"350px\" style=\"display:block; margin-left: auto; margin-right: auto;\" src=\"data:image/png;base64,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\"/>"
   ]
  },
  {
   "attachments": {},
   "cell_type": "markdown",
   "id": "807d264d-b441-41af-aa42-c53b66ad6e78",
   "metadata": {},
   "source": [
    "**Pregunta:** *Comenzando en $A$, ¿existe un camino de distancia $< 900$ que visite todas las ciudades exactamente una vez y regrese a $A$?*\n",
    "\n",
    "Esto se conoce como la versión de decisión del Problema del Vendedor Viajero (Traveling Salesman Problem). En este ejemplo, el espacio de búsqueda consta de todas las rutas posibles, como $ABDCA$, $ACBDA$, $ABCDA$, etc. y nuestro objetivo es encontrar la ruta cuya distancia total sea $< 900$.\n",
    "\n",
    "Revisemos $ABCDA$. La distancia total es $800$, lo que satisface la condición. Si deseamos diseñar $f$ para este problema, $f(\\text{ABCDA})=1$ y $f(x)=0$ para todas las demás rutas.\n",
    "\n",
    "**¿Cómo se puede construir tal $f$?**\n",
    "\n",
    "Sumemos las distancias entre cada par de ciudades y asignemos $1$ si la distancia total es menor que $900$ y $0$ en caso contrario. Tengamos en cuenta que no necesitamos saber nada sobre la solución para implementar $f$.\n",
    "\n",
    "Por supuesto, deberíamos poder diseñar tal $f$ en el entorno cuántico si deseamos aplicar la búsqueda de Grover y esto no siempre es una tarea fácil.\n",
    "\n",
    "Por ejemplo, en este caso, se pueden hacer las asignaciones:\n",
    "\n",
    "- $000$: $A \\rightarrow B \\rightarrow C \\rightarrow D \\rightarrow A$ (distancia 800, cumple la condición)\n",
    "- $001$: $A \\rightarrow B \\rightarrow D \\rightarrow C \\rightarrow A$ (distancia 1000, no cumple)\n",
    "- $010$: $A \\rightarrow C \\rightarrow B \\rightarrow D \\rightarrow A$ (distancia 1000, no cumple)\n",
    "- $011$: $A \\rightarrow C \\rightarrow D \\rightarrow B \\rightarrow A$ (distancia 1000, no cumple)\n",
    "- $100$: $A \\rightarrow D \\rightarrow B \\rightarrow C \\rightarrow A$ (distancia 1000, no cumple)\n",
    "- $101$: $A \\rightarrow D \\rightarrow C \\rightarrow B \\rightarrow A$ (distancia 800, cumple la condición)\n",
    "\n",
    "Por lo tanto, queremos que el oráculo marque los estados $|000\\rangle$ y $|101\\rangle$ (las rutas que cumplen con la condición de distancia < 900).\n",
    "\n",
    "**¿Cómo ayuda la búsqueda de Grover en este problema?**\n",
    "\n",
    "Verificar todas las rutas una por una es un procedimiento largo. Pero dada una ruta, podemos comprobar fácilmente si la distancia total cumple la condición. En lugar de comprobar todas las rutas una por una y consultar $f$ para cada ruta, basta con realizar $\\sqrt{N}$ consultas si utilizamos la búsqueda de Grover.\n",
    "\n",
    "Consulta este [enlace](https://github.com/quantum-challenge/2019/blob/master/problems/final/Final_en.ipynb) para ver otro ejemplo."
   ]
  },
  {
   "cell_type": "markdown",
   "id": "e8c49186-fb49-4a89-9683-8187e2e83f6e",
   "metadata": {
    "jp-MarkdownHeadingCollapsed": true
   },
   "source": [
    "### Algunas aplicaciones\n",
    "\n",
    "- **Logística y Distribución**: Esta es quizás la aplicación más directa del TSP. Se utiliza para optimizar las rutas de entrega de mercancías, desde paquetería hasta distribución de alimentos, minimizando la distancia total recorrida o el tiempo total de viaje. Esto se traduce en ahorros significativos en costos de combustible y tiempo.\n",
    "\n",
    "- **Fabricación y Ensamblaje**: En entornos de producción, especialmente aquellos que involucran procesos de corte como la fabricación de ropa o el corte de metales, el TSP puede ayudar a minimizar el desplazamiento de las herramientas de corte, lo cual reduce el tiempo de producción y el desgaste de las máquinas.\n",
    "\n",
    "- **Diseño de Circuitos Electrónicos**: El TSP se aplica en el diseño de circuitos impresos (PCB) y circuitos integrados (IC) para minimizar la longitud total de las conexiones eléctricas, lo que puede afectar directamente la velocidad y eficiencia del circuito.\n",
    "\n",
    "- **Genómica**: En el secuenciamiento de ADN y otras formas de análisis genómico, el TSP ayuda a ordenar fragmentos de ADN en una secuencia que represente la disposición más probable en el genoma, facilitando su interpretación y análisis.\n",
    "\n",
    "- **Astronomía**: Se utiliza para optimizar la secuencia de observaciones de los telescopios, con el fin de minimizar el tiempo de movimiento del telescopio entre diferentes puntos de observación en el cielo.\n",
    "\n",
    "- **Programación de Tareas**: Aunque menos intuitivo, el TSP también se aplica en la programación de tareas donde se debe determinar el orden más eficiente para realizar actividades que tienen ciertas restricciones de precedencia y costos asociados.\n",
    "\n",
    "$$ $$\n",
    "$$ $$"
   ]
  },
  {
   "cell_type": "markdown",
   "id": "a4ae4341-81f2-4756-976a-9aa939752e22",
   "metadata": {},
   "source": [
    "### Problema del máximo corte (Max-Cut Problem)\n",
    "\n",
    "Consideremos el siguiente grafo:"
   ]
  },
  {
   "cell_type": "markdown",
   "id": "0e646e3b-9d29-4dd4-8bc3-9caa6fe8f015",
   "metadata": {},
   "source": [
    "<img width=\"200px\" style=\"display:block; margin-left: auto; margin-right: auto;\" src=\"data:image/png;base64,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\">"
   ]
  },
  {
   "cell_type": "markdown",
   "id": "ed73b0a7-9275-4594-a950-bef79f265183",
   "metadata": {},
   "source": [
    "El grafo tiene cinco aristas en total. \n",
    "\n",
    "Colorearemos cada vértice con azul o rojo y contaremos el número de aristas que conectan vértices con diferentes colores. \n",
    "\n",
    "En el siguiente ejemplo, hay dos aristas que conectan vértices y que están coloreadas con diferentes colores (azul y rojo):"
   ]
  },
  {
   "cell_type": "markdown",
   "id": "22a524e2-28ea-40c6-823f-863736d97722",
   "metadata": {},
   "source": [
    "<img width=\"200px\" style=\"display:block; margin-left: auto; margin-right: auto;\" src=\"data:image/png;base64,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\">"
   ]
  },
  {
   "cell_type": "markdown",
   "id": "8423ead9-7f0c-4f0f-bbf4-380e02a63f2d",
   "metadata": {},
   "source": [
    "Por otro lado, en el siguiente ejemplo, hay cuatro aristas que conectan los vértices coloreados con diferentes colores, que de hecho es el **máximo** para un grafo con cuatro vértices."
   ]
  },
  {
   "cell_type": "markdown",
   "id": "3f835175-772e-41aa-a062-e5e015c8ccb5",
   "metadata": {},
   "source": [
    "<img width=\"200px\" style=\"display:block; margin-left: auto; margin-right: auto;\" src=\"data:image/png;base64,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\">"
   ]
  },
  {
   "cell_type": "markdown",
   "id": "28d5eae4-0d6f-490d-9d2a-0e59f921a594",
   "metadata": {},
   "source": [
    "El problema de encontrar el número máximo de aristas para que sus puntos finales se coloreen con diferentes colores se conoce como **problema de corte máximo**. Alternativamente, el objetivo es dividir los vértices del grafo en dos conjuntos disjuntos (lo que se llama corte) de modo que el número de aristas entre los dos conjuntos sea máximo. El tamaño del corte se define como el número de aristas entre dos conjuntos.\n",
    "\n",
    "Nos centraremos en la versión de decisión de este problema que se define de la siguiente manera:\n",
    "\n",
    "Para un grafo dado $G$, el problema es determinar si existe un corte de tamaño al menos igual a $k$.\n",
    "\n",
    "Resulta que este problema es un desafío (de hecho, es **NP**-completo). Hay $2^n$ posibles colores, por lo que una búsqueda trivial (fuerza bruta) verifica *cada uno* de estos casos en el peor de los casos. Se puede resolver este problema más rápido usando el algoritmo de búsqueda de Grover, aproximadamente haciendo $\\pi\\sqrt{2^n}/4 \\approx 0.8 \\times 1.414^n$ consultas al *oracle*."
   ]
  },
  {
   "cell_type": "markdown",
   "id": "aaa7dee7-0c69-40bf-bad1-f872798acd44",
   "metadata": {},
   "source": [
    "### Algunas aplicaciones\n",
    "\n",
    "- **Diseño de Circuitos Electrónicos**: El problema de máximo corte se utiliza para el diseño y la optimización de circuitos VLSI (Very Large Scale Integration). En este contexto, se trata de minimizar el número de conexiones entre diferentes chips o diferentes partes de un chip, lo cual puede traducirse en un problema de máximo corte donde cada corte representa una disminución en el número de conexiones entre componentes.\n",
    "\n",
    "- **Ciencia de Materiales**: En la física de materiales, especialmente en el estudio de sistemas magnéticos como los imanes, el problema del máximo corte puede usarse para modelar y optimizar la configuración de espines en un material, donde el objetivo es maximizar la diferencia entre conexiones de espines opuestos.\n",
    "\n",
    "- **Clustering en Análisis de Datos**: El máximo corte también se puede aplicar en el clustering de datos para dividir un conjunto de datos en dos grupos de modo que las diferencias entre los grupos sean máximas. Esto es útil en análisis de redes sociales, biología computacional (por ejemplo, en la clasificación de genes o proteínas), y en la segmentación de mercados.\n",
    "\n",
    "- **Planificación de Redes**: En la planificación de redes de telecomunicaciones o de transporte, el problema de máximo corte puede ayudar a determinar la forma más eficiente de segmentar una red para optimizar ciertos criterios de rendimiento o seguridad.\n",
    "\n",
    "- **Finanzas**: En el sector financiero, el máximo corte puede ser empleado para la diversificación de portafolios, buscando minimizar el riesgo por medio de la separación de activos en diferentes categorías que maximicen la disimilitud en sus rendimientos.\n",
    "\n",
    "$$ $$"
   ]
  },
  {
   "cell_type": "markdown",
   "id": "7e5e5466-6891-4753-a8ac-48c3ff40d4df",
   "metadata": {},
   "source": [
    "<a id=\"3\"></a>\n",
    "# 3. Grover en las SpinQ"
   ]
  },
  {
   "cell_type": "markdown",
   "id": "eed9250b-3cca-48c4-bd6a-c42b590c123e",
   "metadata": {},
   "source": [
    "Podemos implementar Grover en las SpinQ.\n",
    "\n",
    "Notemos que a nivel de simulación, con `spinqit` podemos usar más de $2$ qubits."
   ]
  },
  {
   "cell_type": "markdown",
   "id": "72f0a708-c47b-4aca-b930-78ce43b7c1f6",
   "metadata": {},
   "source": [
    "Podemos implementar el algoritmo de búsqueda de Grover con `spinqit`, para ello nos apoyamos de la clase `AmplitudeAmplification` que permitirá efectuar ese paso del algoritmo.\n",
    "\n",
    "Primero veamos un ejemplo para $2$ qubits:"
   ]
  },
  {
   "cell_type": "code",
   "execution_count": 1,
   "id": "63db3cd2-3c05-4333-a000-f5452b4cc63e",
   "metadata": {},
   "outputs": [
    {
     "name": "stdout",
     "output_type": "stream",
     "text": [
      "{'01': 1024}\n"
     ]
    },
    {
     "data": {
      "image/png": "[encoded data removed]",
      "text/plain": [
       "<Figure size 2173x248 with 1 Axes>"
      ]
     },
     "metadata": {},
     "output_type": "display_data"
    }
   ],
   "source": [
    "from spinqit import get_basic_simulator, BasicSimulatorConfig, get_compiler, Circuit, draw\n",
    "from spinqit import AmplitudeAmplification, GateBuilder, RepeatBuilder\n",
    "from spinqit import H, X, Z\n",
    "from spinqit.primitive import MultiControlledGateBuilder\n",
    "\n",
    "circ = Circuit()\n",
    "q = circ.allocateQubits(2)\n",
    "\n",
    "hbuilder = RepeatBuilder(H, 2)\n",
    "circ << (hbuilder.to_gate(), q)\n",
    "\n",
    "# Construir el oráculo para encontrar '01'\n",
    "oracle_builder = GateBuilder(2)\n",
    "oracle_builder.append(X, [0])\n",
    "\n",
    "mcz_builder = MultiControlledGateBuilder(1, gate=Z)              # usa compuertas equivalentes (https://arxiv.org/pdf/quant-ph/9503016)\n",
    "oracle_builder.append(mcz_builder.to_gate(), list(range(2)))\n",
    "\n",
    "oracle_builder.append(X, [0])\n",
    "\n",
    "grover = AmplitudeAmplification(oracle_builder.to_gate(), q)     # se aprovecha esta clase que ya existe en el paquete\n",
    "circ.extend(grover.build())\n",
    "\n",
    "comp = get_compiler()\n",
    "engine = get_basic_simulator()\n",
    "\n",
    "exe = comp.compile(circ, 0)\n",
    "draw(exe)\n",
    "\n",
    "config = BasicSimulatorConfig()\n",
    "config.configure_shots(1024)\n",
    "result = engine.execute(exe, config)\n",
    "\n",
    "# Resultados\n",
    "print(result.counts)"
   ]
  },
  {
   "cell_type": "markdown",
   "id": "3e84b899-d9a3-43be-8e01-ff4e87eb1cf6",
   "metadata": {},
   "source": [
    "Ejemplo para $4$ qubits:"
   ]
  },
  {
   "cell_type": "code",
   "execution_count": 2,
   "id": "224af640-b7da-43e4-ba1b-24c2402f3b58",
   "metadata": {},
   "outputs": [
    {
     "name": "stdout",
     "output_type": "stream",
     "text": [
      "{'0000': 36, '0001': 36, '0010': 36, '0011': 36, '0100': 36, '0101': 36, '0110': 36, '0111': 36, '1000': 36, '1001': 36, '1010': 36, '1011': 36, '1100': 484, '1101': 36, '1110': 36, '1111': 36}\n"
     ]
    },
    {
     "data": {
      "image/png": "[encoded data removed]",
      "text/plain": [
       "<Figure size 8869x440 with 1 Axes>"
      ]
     },
     "metadata": {},
     "output_type": "display_data"
    }
   ],
   "source": [
    "from spinqit import get_compiler, Circuit, draw\n",
    "from spinqit import AmplitudeAmplification, GateBuilder, RepeatBuilder\n",
    "from spinqit import H, X, Z\n",
    "from spinqit.primitive import MultiControlledGateBuilder\n",
    "\n",
    "circ = Circuit()\n",
    "q = circ.allocateQubits(4)\n",
    "\n",
    "hbuilder = RepeatBuilder(H, 4)\n",
    "circ << (hbuilder.to_gate(), q)\n",
    "\n",
    "# Construir el oráculo para encontrar '1100'\n",
    "oracle_builder = GateBuilder(4)\n",
    "oracle_builder.append(X, [2])\n",
    "oracle_builder.append(X, [3])\n",
    "\n",
    "mcz_builder = MultiControlledGateBuilder(3, gate=Z)\n",
    "oracle_builder.append(mcz_builder.to_gate(), list(range(4)))\n",
    "\n",
    "oracle_builder.append(X, [2])\n",
    "oracle_builder.append(X, [3])\n",
    "\n",
    "grover = AmplitudeAmplification(oracle_builder.to_gate(), q)\n",
    "circ.extend(grover.build())\n",
    "\n",
    "comp = get_compiler()\n",
    "engine = get_basic_simulator()\n",
    "\n",
    "exe = comp.compile(circ, 0)\n",
    "draw(exe)\n",
    "\n",
    "config = BasicSimulatorConfig()\n",
    "config.configure_shots(1024)\n",
    "result = engine.execute(exe, config)\n",
    "\n",
    "# Resultados\n",
    "print(result.counts)"
   ]
  },
  {
   "cell_type": "markdown",
   "id": "e65c9d87-684e-4aa0-9b9c-daa60a2ae0f2",
   "metadata": {},
   "source": [
    "$$ $$\n",
    "La clase `MultiControlledGateBuilder` se usa para crear las compuertas multicontrol necesarias, y esta es generada con varias compuertas, cuyas equivalencias están basadas en el artículo:\n",
    "- *Elementary gates for quantum computation*, **Barenco, Adriano and Bennett, Charles H. and Cleve, Richard and DiVincenzo, David P. and Margolus, Norman and Shor, Peter and Sleator, Tycho and Smolin, John A. and Weinfurter, Harald**. Phys. Rev. A 52, 3457 – Published 1 November 1995. [[Phys. Rev. A](https://journals.aps.org/pra/abstract/10.1103/PhysRevA.52.3457)][[arXiv](https://arxiv.org/pdf/quant-ph/9503016)]"
   ]
  },
  {
   "cell_type": "code",
   "execution_count": 3,
   "id": "3e51d6b1-70f9-43d7-b281-4c5a49d163ed",
   "metadata": {},
   "outputs": [
    {
     "name": "stdout",
     "output_type": "stream",
     "text": [
      "{'00': 1024}\n"
     ]
    },
    {
     "data": {
      "image/png": "[encoded data removed]",
      "text/plain": [
       "<Figure size 877x248 with 1 Axes>"
      ]
     },
     "metadata": {},
     "output_type": "display_data"
    }
   ],
   "source": [
    "from spinqit import get_compiler, Circuit, draw\n",
    "from spinqit import AmplitudeAmplification, GateBuilder, RepeatBuilder\n",
    "from spinqit import H, X, Z, Y\n",
    "from spinqit.primitive import MultiControlledGateBuilder\n",
    "from math import pi\n",
    "\n",
    "circ = Circuit()\n",
    "q = circ.allocateQubits(2)\n",
    "\n",
    "mcz_builder = MultiControlledGateBuilder(1, gate=Z)\n",
    "\n",
    "circ << (mcz_builder.to_gate(), q)\n",
    "\n",
    "comp = get_compiler()\n",
    "engine = get_basic_simulator()\n",
    "\n",
    "exe = comp.compile(circ, 0)\n",
    "draw(exe)\n",
    "\n",
    "config = BasicSimulatorConfig()\n",
    "config.configure_shots(1024)\n",
    "result = engine.execute(exe, config)\n",
    "\n",
    "# Run\n",
    "print(result.counts)"
   ]
  },
  {
   "cell_type": "markdown",
   "id": "f3f4934d-65ba-4808-853f-daaac5fdd20e",
   "metadata": {},
   "source": [
    "Notemos que la implementación de Grover es un poco diferente a la tradicional, por ejemplo se usa la compuerta $Z$ multicontrolada en lugar de la $X$ multicontrolada; por otro lado, la implementación del paso iterativo de aplificación de amplitud (uso de la clase `AmplitudeAmplification`) se ve modificada para usar esta compuerta multicontrolada."
   ]
  },
  {
   "cell_type": "markdown",
   "id": "30aa9d83-9ad4-4a94-9fb1-461531165365",
   "metadata": {},
   "source": [
    "$$ $$\n",
    "\n",
    "`spinqit` también provee una clase llamada `QSearching` que permite determinar cuál es el elemento máximo (o el mínimo) en una lista de números. \n",
    "\n",
    "Internamente, esta clase usa el algoritmo de Grover, puedes ver su implementeación en el repositorio del paquete ([aquí](https://github.com/SpinQTech/SpinQit/blob/main/spinqit/algorithm/grover_seach.py))."
   ]
  },
  {
   "cell_type": "code",
   "execution_count": 4,
   "id": "317ada4f-82cc-444e-817f-440f0892ead6",
   "metadata": {},
   "outputs": [
    {
     "name": "stdout",
     "output_type": "stream",
     "text": [
      "= The maximum element is: 15\n",
      "= The index of the maximum element is: 7\n",
      "\n",
      "= The minimum element is: 1\n",
      "= The index of the minimum element is: 2\n"
     ]
    }
   ],
   "source": [
    "from spinqit.algorithm import QSearching\n",
    "\n",
    "dataset = [2, 3, 1, 4, 5, 6, 7, 15]\n",
    "seed = 330\n",
    "\n",
    "max_searcher = QSearching(seed=seed)\n",
    "max_idx = max_searcher.search(dataset, show=True)\n",
    "\n",
    "print()\n",
    "\n",
    "min_searcher = QSearching('min', seed=seed)\n",
    "min_idx = min_searcher.search(dataset, show=True)\n"
   ]
  },
  {
   "cell_type": "markdown",
   "id": "ad8be789-f8ae-4c87-9838-2bc11ee69ba6",
   "metadata": {},
   "source": [
    "<a id=\"4\"></a>\n",
    "# 4. Práctica 5"
   ]
  },
  {
   "cell_type": "markdown",
   "id": "350d5f23-9426-4b3e-84d4-67df2b5c2d82",
   "metadata": {},
   "source": [
    "La Tarea deberá ser entregada en un Jupyter notebook, debe ser uno nuevo (no se puede usar este), el archivo debe ser subido al Google Classroom."
   ]
  },
  {
   "cell_type": "markdown",
   "id": "24f360eb-00f4-48c5-affc-3dbf0fa14360",
   "metadata": {},
   "source": [
    "1. Determina el valor de la cadena oculta `s`:\n",
    "   1. Ejecuta la siguiente celda de código, esta definirá una función llamada `bv_oracle()` que no recibe parámetros y devuelve un circuito cuántico que codifica una cadena `s` de $5$ bits.\n",
    "      1. `bv_oracle()` representa $U_f$ en el algoritmo de Bernstein–Vazirani.\n",
    "      2. Dibuja el circuito que regresa la función `bv_oracle()`.\n",
    "   2. Implementa todo el algoritmo de Bernstein–Vazirani para determinar la cadena `s`.\n",
    "      1. Considera que el qubit de más a la izquierda (en este caso $q_5$) es el qubit auxiliar.\n",
    "        - Nota que `bv_oracle()` tiene el qubit auxiliar del otro lado comparado con el ejemplo visto en este notebook (Lab5, sección 1).\n",
    "      2. Comprueba la estructura del circuito de $U_f$ dibujando tu circuito. ¿Puedes comprobar si tu resultado es correcto (o no) solo observando este circuito?\n",
    "      3. Usa el parámetro `inplace=True` del método `compose()` de la clase `QuantumCircuit` para agregar el circuito del oráculo en el punto deseado (paso 3).\n",
    "   3. Realiza la simulación del circuito usando la clase `BasicSimulator` (como en el ejemplo de este Lab5).\n",
    "       - Está prohibido usar Qiskit Aer (`qiskit-aer`). Muchos ejemplos en internet usan Qiskit Aer, pero no se puede usar en las tareas, así que realiza la adecuación pertinente del código.\n",
    "   4. Responde claramente cuál es la cadena oculta `s`.\n",
    "       - Usa una celda de markdown, en donde escribas la cadena $s$ tu mismo(a) a modo de conclusión."
   ]
  },
  {
   "cell_type": "markdown",
   "id": "1f99099a-62a9-42d9-9a55-e9d7b290e01a",
   "metadata": {
    "jp-MarkdownHeadingCollapsed": true
   },
   "source": [
    "##### Celda oculta que define la función `bv_oracle()`\n",
    "\n",
    "No olvides ejecutar la siguiente celda de código ([ofuscado](https://es.wikipedia.org/wiki/Ofuscaci%C3%B3n#Motivaci%C3%B3n)) para cargar la función del Oracle."
   ]
  },
  {
   "cell_type": "code",
   "execution_count": null,
   "id": "e0cf2b1a-348a-47e8-bc77-5ca7f53b415e",
   "metadata": {},
   "outputs": [],
   "source": [
    "exec(bytes.fromhex('0a66726f6d207169736b697420696d706f7274205175616e74756d436972637569740a0a6465662062765f6f7261636c6528293a0a2020202073203d20223131303130220a202020206e203d206c656e2873290a2020202073203d20735b3a3a2d315d202320726576657274696d6f73206c6120636164656e612079612071756520735f3020657374c3a12061206c6120697a7175696572646120736567c3ba6e20507974686f6e2c7920656e206c61206465726563686120736567c3ba6e205169736b69740a0a2020202063697263756974203d205175616e74756d43697263756974286e202b2031290a20202020636972637569742e6261727269657228290a0a20202020666f72206920696e2072616e6765286e293a0a2020202020202020696620735b695d203d3d202731273a0a202020202020202020202020636972637569742e63782869202b20312c2030290a0a20202020636972637569742e6261727269657228290a2020202072657475726e20636972637569740a20202020'))"
   ]
  },
  {
   "cell_type": "markdown",
   "id": "a506b7c3-9712-42e8-82e3-a19a68324f4b",
   "metadata": {},
   "source": [
    "#### "
   ]
  },
  {
   "cell_type": "markdown",
   "id": "b93f9b87-ab74-4b5b-8009-f21d81de2134",
   "metadata": {},
   "source": [
    "2. Realiza el algoritmo de Grover para $n=5$.\n",
    "   1. Haz una función de oráculo que marque los elementos $|01100\\rangle$, $|11001\\rangle$ y $|01010\\rangle$.\n",
    "   2. Ejecuta el algorimto completo y comprueba que dichos elementos fueron encontrados por el algoritmo de búsqueda de Grover.\n",
    "   3. Recuerda que debes determinar el número apropiado de iteraciones a usar en tu algoritmo.\n",
    "   5. Realiza la simulación del circuito usando la clase `StatevectorSampler` (como en el ejemplo de este Lab5).\n",
    "      - Está prohibido usar Qiskit Aer (`qiskit-aer`). Muchos ejemplos en internet usan Qiskit Aer, pero no se puede usar en las tareas, así que realiza la adecuación pertinente del código.\n",
    "     \n",
    "$$ $$"
   ]
  },
  {
   "cell_type": "markdown",
   "id": "939b0a0f-d42b-42b7-a4fa-1edc729618e8",
   "metadata": {},
   "source": [
    "3. **[Opcional]** Realiza un ejercicio opcional de los laboratorios previos.\n",
    "   1. Elige un ejercicio que no hayas entregado previamente y entrégalo en esta Práctica 5 para obtener puntos extra.\n",
    "   2. Si has hecho todos los ejercicios opcionales de las prácticas previas, escoge el que te dió menor puntuación para incluir en esta Práctica 5.\n",
    "   3. Entregar un ejercicio previo como parte de la Práctica 5 te dará los puntos correspondientes al ejercicio elegido.\n",
    "      1. Ejercicio opcional de la Práctica 1: **5/100 puntos**\n",
    "      2. Ejercicio opcional de la Práctica 2: **20/100 puntos**\n",
    "      3. Ejercicios opcionales de la Práctica 3 (inciso 1.G y ejercicio 3): **30/100 puntos**\n",
    "      4. Ejercicio opcional de la Práctica 4: **30/100 puntos**\n",
    "   4. La rúbrica a utilizar será la que corresponde al ejercicio elegido.\n",
    "   5. Especifica cuál ejercicio estás entregando, indicando número de práctica.\n",
    "\n",
    "$$ $$"
   ]
  },
  {
   "cell_type": "markdown",
   "id": "eb943874-f748-4a59-8b38-27b3a1b1299a",
   "metadata": {},
   "source": [
    "**Nota**: Los ejercicios opcionales sumarán punto(s) extra en el total de tareas, sino se realizan **no** restarán puntos al total de tareas."
   ]
  },
  {
   "cell_type": "markdown",
   "id": "fa86c732-8741-42a4-b902-f913b26d1e66",
   "metadata": {},
   "source": [
    "##### **Nota**: Tarea individual."
   ]
  }
 ],
 "metadata": {
  "kernelspec": {
   "display_name": "Python 3 (ipykernel)",
   "language": "python",
   "name": "python3"
  },
  "language_info": {
   "codemirror_mode": {
    "name": "ipython",
    "version": 3
   },
   "file_extension": ".py",
   "mimetype": "text/x-python",
   "name": "python",
   "nbconvert_exporter": "python",
   "pygments_lexer": "ipython3",
   "version": "3.12.4"
  }
 },
 "nbformat": 4,
 "nbformat_minor": 5
}
